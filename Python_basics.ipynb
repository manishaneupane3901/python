{
  "nbformat": 4,
  "nbformat_minor": 0,
  "metadata": {
    "colab": {
      "provenance": [],
      "authorship_tag": "ABX9TyMgRJcZfYAXEfFznasLL6oB",
      "include_colab_link": true
    },
    "kernelspec": {
      "name": "python3",
      "display_name": "Python 3"
    },
    "language_info": {
      "name": "python"
    }
  },
  "cells": [
    {
      "cell_type": "markdown",
      "metadata": {
        "id": "view-in-github",
        "colab_type": "text"
      },
      "source": [
        "<a href=\"https://colab.research.google.com/github/manishaneupane3901/python/blob/main/Python_basics.ipynb\" target=\"_parent\"><img src=\"https://colab.research.google.com/assets/colab-badge.svg\" alt=\"Open In Colab\"/></a>"
      ]
    },
    {
      "cell_type": "markdown",
      "source": [],
      "metadata": {
        "id": "nsVy7zDu2OMs"
      }
    },
    {
      "cell_type": "markdown",
      "source": [
        "**Basic of Python Programming**\n",
        "\n",
        "In this session we will cover\n",
        "\n",
        "1. Variables, Numbers and Strings\n",
        "\n",
        " 1.1 Variables\n",
        "\n",
        " 1.2 Numbers\n",
        "\n",
        " 1.3 Strings\n",
        "2. Data Structures\n",
        "\n",
        " 2.1 Lists\n",
        "\n",
        " 2.2 Dictionaries\n",
        "\n",
        " 2.3 Tuples\n",
        "\n",
        " 2.4 Sets\n",
        "3. Comparison and Logic Operators\n",
        "\n",
        "4. Control Flow\n",
        "\n",
        " 4.1 If Condition\n",
        "\n",
        " 4.2 For Loop\n",
        "\n",
        " 4.3 While Loop\n",
        "\n",
        "5. Functions\n",
        "\n",
        "6. Lambda Functions\n",
        "\n",
        "7. Built in functions\n",
        "\n",
        " 7.1 Map Function\n",
        "\n",
        " 7.2 Filter Function\n",
        "\n",
        "8. More Useful Python Stuff\n",
        "\n",
        " 8.1 List Comprehension\n",
        "\n",
        " 8.2 Enumerate Function\n",
        "\n",
        " 8.3 Zip Function"
      ],
      "metadata": {
        "id": "m1LpW8ki2RSO"
      }
    },
    {
      "cell_type": "markdown",
      "source": [
        "**1. Variables, Numbers, and Strings**\n",
        "\n",
        "**1.1 Variables**\n",
        "\n",
        "Below are quick notes about Python variables and other most important things to know before writing actual Python code:\n",
        "\n",
        "A **Variable** is a location in memory where we store the data.\n",
        "\n",
        "A **variable** in Python can either be of 3 data types: integer, float, or a string.\n",
        " Data type specifies the category of the variables.\n",
        "\n",
        "We can use  **type(variable_name)**  to find the type of given variable_name.\n",
        "\n",
        "\n",
        "\n",
        "\n",
        "\n",
        "*   In Python, we use # to add comments. Comments do not change anything and are not compiled.\n",
        "*  If your comment is longer than one line, you can use triple quotes. The lines inside triple quotes are ignore during runtime.\n",
        "\n",
        "For Example:\n",
        "\"\"\"\n",
        "In Python, there is no official way to write long comments, but you can use triple quotes.\n",
        "The sentence between triple quote are ignored at runtime. You can also use single quote('''....'''). Python treats single quote as double quotes in many scanerios such as strings representation.\n",
        "\"\"\"\n",
        "\n",
        "\n",
        "* We also use = to assign a value to the name of variable.\n",
        "* Note that it's different to comparison operator of equal to (==).\n",
        "\n",
        "We can use **print()** to display the value of variable or the results of any expression.\n",
        "\n",
        "* Each line of the code start on the new line.\n",
        "\n",
        "* Be aware of indentations.\n",
        "*  Python is serious about them.\n"
      ],
      "metadata": {
        "id": "myyZmpT7gZAW"
      }
    },
    {
      "cell_type": "code",
      "source": [
        "a=10\n",
        "b='''Welcome to NCE'''\n",
        "print(b)\n",
        "print(c)"
      ],
      "metadata": {
        "colab": {
          "base_uri": "https://localhost:8080/"
        },
        "id": "vLHQ18W2h8jo",
        "outputId": "34b2f237-4aa9-4876-e0bf-e7d33f690c9c"
      },
      "execution_count": 23,
      "outputs": [
        {
          "output_type": "stream",
          "name": "stdout",
          "text": [
            "Welcome to NCE\n",
            "0.5\n"
          ]
        }
      ]
    },
    {
      "cell_type": "markdown",
      "source": [
        "**1.2 Numbers**\n"
      ],
      "metadata": {
        "id": "QY3ljPNlnSi_"
      }
    },
    {
      "cell_type": "markdown",
      "source": [
        "Numbers in Python can either be integers int or floats float.\n",
        "Integer are real, finite, natural or whole numbers.\n",
        "Take an example: 1,2,3,4 are integers.\n",
        " Floats are numbers that have decimal points such as4.6, 6.0, 7.7.\n",
        " Note that 4.0 is considered as a float data type too."
      ],
      "metadata": {
        "id": "CkZ314Kgnrb3"
      }
    },
    {
      "cell_type": "code",
      "source": [
        "a=10\n",
        "b=6.0\n",
        "type(b)\n",
        "type(a)"
      ],
      "metadata": {
        "colab": {
          "base_uri": "https://localhost:8080/"
        },
        "id": "QqDCc2FZn3hJ",
        "outputId": "1b1b418d-66fd-43df-d204-3c1770910946"
      },
      "execution_count": 27,
      "outputs": [
        {
          "output_type": "execute_result",
          "data": {
            "text/plain": [
              "int"
            ]
          },
          "metadata": {},
          "execution_count": 27
        }
      ]
    },
    {
      "cell_type": "markdown",
      "source": [
        "**Python acts a calculator**"
      ],
      "metadata": {
        "id": "8vL8VVKWmsQC"
      }
    },
    {
      "cell_type": "code",
      "source": [
        "# Addition\n",
        "1+2\n",
        "\n",
        "\n"
      ],
      "metadata": {
        "colab": {
          "base_uri": "https://localhost:8080/"
        },
        "id": "bY_17avRmyXP",
        "outputId": "36b8c7b2-4bc7-4794-d80e-a1c7bcfe044b"
      },
      "execution_count": 32,
      "outputs": [
        {
          "output_type": "execute_result",
          "data": {
            "text/plain": [
              "3"
            ]
          },
          "metadata": {},
          "execution_count": 32
        }
      ]
    },
    {
      "cell_type": "code",
      "source": [
        "#multiplication\n",
        "2*2"
      ],
      "metadata": {
        "colab": {
          "base_uri": "https://localhost:8080/"
        },
        "id": "OBX01ab6oqdU",
        "outputId": "7460a606-6199-47aa-f481-343c1ccba72d"
      },
      "execution_count": 33,
      "outputs": [
        {
          "output_type": "execute_result",
          "data": {
            "text/plain": [
              "4"
            ]
          },
          "metadata": {},
          "execution_count": 33
        }
      ]
    },
    {
      "cell_type": "code",
      "source": [
        "#Division\n"
      ],
      "metadata": {
        "id": "GNK_Fh2Wovrc"
      },
      "execution_count": null,
      "outputs": []
    },
    {
      "cell_type": "code",
      "source": [
        "2/2"
      ],
      "metadata": {
        "colab": {
          "base_uri": "https://localhost:8080/"
        },
        "id": "F2K4MSUvoxOw",
        "outputId": "4940b594-4712-452c-b08a-8ce604832716"
      },
      "execution_count": 34,
      "outputs": [
        {
          "output_type": "execute_result",
          "data": {
            "text/plain": [
              "1.0"
            ]
          },
          "metadata": {},
          "execution_count": 34
        }
      ]
    },
    {
      "cell_type": "code",
      "source": [
        "#floordivision\n",
        "7//2"
      ],
      "metadata": {
        "colab": {
          "base_uri": "https://localhost:8080/"
        },
        "id": "GYfd4AiKpL6z",
        "outputId": "cf03ca08-ff4c-4f64-837a-7871ed1e66ce"
      },
      "execution_count": 36,
      "outputs": [
        {
          "output_type": "execute_result",
          "data": {
            "text/plain": [
              "3"
            ]
          },
          "metadata": {},
          "execution_count": 36
        }
      ]
    },
    {
      "cell_type": "markdown",
      "source": [
        "Floor division is a division operation that returns the largest integer that is less than or equal to the result of the division.\n"
      ],
      "metadata": {
        "id": "V8g57QkkpX-Y"
      }
    },
    {
      "cell_type": "code",
      "source": [
        "# Modular (%)\n",
        "# This is the remainder or a value remaining after dividing two numbers\n",
        "# 100 / 1 = 100, remainder is 0\n",
        "\n",
        "100 % 1"
      ],
      "metadata": {
        "colab": {
          "base_uri": "https://localhost:8080/"
        },
        "id": "KQpbd-Wbp4Rr",
        "outputId": "1eeac09e-2682-4ce7-cb9a-3ea64453bd78"
      },
      "execution_count": 39,
      "outputs": [
        {
          "output_type": "execute_result",
          "data": {
            "text/plain": [
              "0"
            ]
          },
          "metadata": {},
          "execution_count": 39
        }
      ]
    },
    {
      "cell_type": "code",
      "source": [
        "# Powers\n",
        "# 1 power any number is 1 always\n",
        "\n",
        "1 ** 100"
      ],
      "metadata": {
        "colab": {
          "base_uri": "https://localhost:8080/"
        },
        "id": "L-KTNMkzqLjk",
        "outputId": "b2c59d31-c205-4db7-ab06-a05363c7146c"
      },
      "execution_count": 40,
      "outputs": [
        {
          "output_type": "execute_result",
          "data": {
            "text/plain": [
              "1"
            ]
          },
          "metadata": {},
          "execution_count": 40
        }
      ]
    },
    {
      "cell_type": "markdown",
      "source": [
        "**1.3 Strings**\n",
        "\n",
        "Python supports strings. String is a sequence of characters.\n",
        "\n",
        "Strings are one of the commonly used and important data types. Most problems involve working with strings. Thus, knowing how to work with strings is an incredible thing.\n",
        "\n",
        "Strings are expressed in  using single quotes (‘ ‘), double quotes (\" \"), and triple double quotes (\"\"\" \"\"\").\n",
        "The triple quotes can be used to declare multiline strings in Python.\n",
        "\n",
        "\"text inside here will be a string\"\n",
        "'text inside here will also be a string'"
      ],
      "metadata": {
        "id": "N9qoUEoeqYAO"
      }
    },
    {
      "cell_type": "code",
      "source": [
        "a='hello'\n",
        "b='freshers'\n",
        "a+b"
      ],
      "metadata": {
        "colab": {
          "base_uri": "https://localhost:8080/",
          "height": 35
        },
        "id": "0W7TqCExqg4b",
        "outputId": "b13546fa-2e86-4b4c-98ca-3efc404d4ff8"
      },
      "execution_count": 51,
      "outputs": [
        {
          "output_type": "execute_result",
          "data": {
            "text/plain": [
              "'hellofreshers'"
            ],
            "application/vnd.google.colaboratory.intrinsic+json": {
              "type": "string"
            }
          },
          "metadata": {},
          "execution_count": 51
        }
      ]
    },
    {
      "cell_type": "code",
      "source": [
        "a='hello'\n",
        "b='freshers'\n",
        "a +' '+b +'.'"
      ],
      "metadata": {
        "colab": {
          "base_uri": "https://localhost:8080/",
          "height": 35
        },
        "id": "oRH9q0EgsLCy",
        "outputId": "2c482352-af85-4909-f607-886f35a29717"
      },
      "execution_count": 50,
      "outputs": [
        {
          "output_type": "execute_result",
          "data": {
            "text/plain": [
              "'hello freshers.'"
            ],
            "application/vnd.google.colaboratory.intrinsic+json": {
              "type": "string"
            }
          },
          "metadata": {},
          "execution_count": 50
        }
      ]
    },
    {
      "cell_type": "code",
      "source": [
        "String1 = \"\"\"Water\n",
        "            For\n",
        "            Life\"\"\"\n",
        "print(String1)"
      ],
      "metadata": {
        "colab": {
          "base_uri": "https://localhost:8080/"
        },
        "id": "gSNSwvWfr2Q2",
        "outputId": "eeb082b1-cdde-459e-b8c5-6fae9dae4802"
      },
      "execution_count": 46,
      "outputs": [
        {
          "output_type": "stream",
          "name": "stdout",
          "text": [
            "Water \n",
            "            For \n",
            "            Life\n"
          ]
        }
      ]
    },
    {
      "cell_type": "code",
      "source": [
        "# We can use print() to display a string\n",
        "\n",
        "print(\" This is a string\")"
      ],
      "metadata": {
        "colab": {
          "base_uri": "https://localhost:8080/"
        },
        "id": "JxxyGqcVtFhd",
        "outputId": "2100b613-1e1d-427f-86f0-17f88e4873c7"
      },
      "execution_count": 52,
      "outputs": [
        {
          "output_type": "stream",
          "name": "stdout",
          "text": [
            " This is a string\n"
          ]
        }
      ]
    },
    {
      "cell_type": "code",
      "source": [
        "# We can also compare strings to check whether they are similar.\n",
        "# If they are similar, case by case, comparison operator returns true. Else false\n",
        "\n",
        "\"A string\" == \"a string\""
      ],
      "metadata": {
        "colab": {
          "base_uri": "https://localhost:8080/"
        },
        "id": "wm8nR9JPtQxY",
        "outputId": "cf41ab95-928b-4ea7-df2f-4f47af686c7d"
      },
      "execution_count": 53,
      "outputs": [
        {
          "output_type": "execute_result",
          "data": {
            "text/plain": [
              "False"
            ]
          },
          "metadata": {},
          "execution_count": 53
        }
      ]
    },
    {
      "cell_type": "code",
      "source": [
        "\"A string\" == \"A string\""
      ],
      "metadata": {
        "colab": {
          "base_uri": "https://localhost:8080/"
        },
        "id": "YIiUB6tjtTOs",
        "outputId": "87cd3bb5-5414-4279-ada0-ba9dc2f029b8"
      },
      "execution_count": 54,
      "outputs": [
        {
          "output_type": "execute_result",
          "data": {
            "text/plain": [
              "True"
            ]
          },
          "metadata": {},
          "execution_count": 54
        }
      ]
    },
    {
      "cell_type": "markdown",
      "source": [
        "**Strings Methods**\n",
        "\n",
        "Python provides many built-in methods for manipulating strings. As a programmer, knowing typical string methods and how to use them will give you a real leverage when working with strings."
      ],
      "metadata": {
        "id": "Ka-h92RitmcN"
      }
    },
    {
      "cell_type": "code",
      "source": [
        "sentence = 'This IS A String'\n",
        "sentence"
      ],
      "metadata": {
        "colab": {
          "base_uri": "https://localhost:8080/",
          "height": 35
        },
        "id": "n7xyIG9ftXg3",
        "outputId": "6804225b-bb25-43f1-cbe4-496829451c35"
      },
      "execution_count": 56,
      "outputs": [
        {
          "output_type": "execute_result",
          "data": {
            "text/plain": [
              "'This IS A String'"
            ],
            "application/vnd.google.colaboratory.intrinsic+json": {
              "type": "string"
            }
          },
          "metadata": {},
          "execution_count": 56
        }
      ]
    },
    {
      "cell_type": "code",
      "source": [
        "# Case capitalization\n",
        "# It return the string with first letter capitalized and the rest being lower cases.\n",
        "\n",
        "sentence.capitalize()"
      ],
      "metadata": {
        "colab": {
          "base_uri": "https://localhost:8080/",
          "height": 35
        },
        "id": "PhXFw68StyA7",
        "outputId": "fac95849-3101-46c1-bb19-5ebd8ce6509a"
      },
      "execution_count": 57,
      "outputs": [
        {
          "output_type": "execute_result",
          "data": {
            "text/plain": [
              "'This is a string'"
            ],
            "application/vnd.google.colaboratory.intrinsic+json": {
              "type": "string"
            }
          },
          "metadata": {},
          "execution_count": 57
        }
      ]
    },
    {
      "cell_type": "code",
      "source": [
        "# Given a string, convert it into title (each word is capitalized)\n",
        "\n",
        "sentence_2 = 'this is a string to be titled'\n",
        "sentence_2.title()"
      ],
      "metadata": {
        "colab": {
          "base_uri": "https://localhost:8080/",
          "height": 35
        },
        "id": "LLFp6M09t8x7",
        "outputId": "622df01a-c489-482b-edfa-62d42d8a9734"
      },
      "execution_count": 58,
      "outputs": [
        {
          "output_type": "execute_result",
          "data": {
            "text/plain": [
              "'This Is A String To Be Titled'"
            ],
            "application/vnd.google.colaboratory.intrinsic+json": {
              "type": "string"
            }
          },
          "metadata": {},
          "execution_count": 58
        }
      ]
    },
    {
      "cell_type": "code",
      "source": [
        "# Converting the string to upper case\n",
        "\n",
        "sentence.upper()"
      ],
      "metadata": {
        "colab": {
          "base_uri": "https://localhost:8080/",
          "height": 35
        },
        "id": "YCTw5_X5uEzi",
        "outputId": "3245d1af-0cfc-4ed7-bd5b-54432480f1ee"
      },
      "execution_count": 59,
      "outputs": [
        {
          "output_type": "execute_result",
          "data": {
            "text/plain": [
              "'THIS IS A STRING'"
            ],
            "application/vnd.google.colaboratory.intrinsic+json": {
              "type": "string"
            }
          },
          "metadata": {},
          "execution_count": 59
        }
      ]
    },
    {
      "cell_type": "code",
      "source": [
        "# Converting the string to lower case\n",
        "\n",
        "sentence.lower()"
      ],
      "metadata": {
        "colab": {
          "base_uri": "https://localhost:8080/",
          "height": 35
        },
        "id": "FeZ8nVm_uG7p",
        "outputId": "3deaae7e-babc-4f4a-ded5-c87e4e5d4066"
      },
      "execution_count": 60,
      "outputs": [
        {
          "output_type": "execute_result",
          "data": {
            "text/plain": [
              "'this is a string'"
            ],
            "application/vnd.google.colaboratory.intrinsic+json": {
              "type": "string"
            }
          },
          "metadata": {},
          "execution_count": 60
        }
      ]
    },
    {
      "cell_type": "code",
      "source": [
        "# Splitting the string\n",
        "\n",
        "sentence.split()"
      ],
      "metadata": {
        "colab": {
          "base_uri": "https://localhost:8080/"
        },
        "id": "De5X6y1luPHG",
        "outputId": "b245bc20-4efe-4f46-c458-a2c73fc29fe8"
      },
      "execution_count": 61,
      "outputs": [
        {
          "output_type": "execute_result",
          "data": {
            "text/plain": [
              "['This', 'IS', 'A', 'String']"
            ]
          },
          "metadata": {},
          "execution_count": 61
        }
      ]
    },
    {
      "cell_type": "markdown",
      "source": [
        "Lastly, we can use **replace()** method to replace some characters in string with another characters.\n",
        "Replace method takes two inputs: characters to be replaced, and new characters to be inserted in string, **replace('characters to be replaced', 'new characters')**.\n",
        "\n",
        "Example, given the string \"This movie was awesome\", replace the world movie with project."
      ],
      "metadata": {
        "id": "Z6mmqS_WuZDZ"
      }
    },
    {
      "cell_type": "code",
      "source": [
        "stri = \"This movie was awesome\"\n",
        "stri.replace('movie', 'project')"
      ],
      "metadata": {
        "colab": {
          "base_uri": "https://localhost:8080/",
          "height": 35
        },
        "id": "b0c4SFi_uniJ",
        "outputId": "57a92582-08ec-43be-d349-e3dafc7985c9"
      },
      "execution_count": 62,
      "outputs": [
        {
          "output_type": "execute_result",
          "data": {
            "text/plain": [
              "'This project was awesome'"
            ],
            "application/vnd.google.colaboratory.intrinsic+json": {
              "type": "string"
            }
          },
          "metadata": {},
          "execution_count": 62
        }
      ]
    }
  ]
}