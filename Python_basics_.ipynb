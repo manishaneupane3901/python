{
  "nbformat": 4,
  "nbformat_minor": 0,
  "metadata": {
    "colab": {
      "provenance": [],
      "authorship_tag": "ABX9TyNkcbS7HQy/sWBdvqhww07x",
      "include_colab_link": true
    },
    "kernelspec": {
      "name": "python3",
      "display_name": "Python 3"
    },
    "language_info": {
      "name": "python"
    }
  },
  "cells": [
    {
      "cell_type": "markdown",
      "metadata": {
        "id": "view-in-github",
        "colab_type": "text"
      },
      "source": [
        "<a href=\"https://colab.research.google.com/github/manishaneupane3901/python/blob/main/Python_basics_.ipynb\" target=\"_parent\"><img src=\"https://colab.research.google.com/assets/colab-badge.svg\" alt=\"Open In Colab\"/></a>"
      ]
    },
    {
      "cell_type": "markdown",
      "source": [
        "**Basic of Python Programming**\n",
        "\n",
        "In this session we will cover\n",
        "\n",
        "1. Variables, Numbers and Strings\n",
        "\n",
        " 1.1 Variables\n",
        "\n",
        " 1.2 Numbers\n",
        "\n",
        " 1.3 Strings\n",
        "2. Data Structures\n",
        "\n",
        " 2.1 Lists\n",
        "\n",
        " 2.2 Dictionaries\n",
        "\n",
        " 2.3 Tuples\n",
        "\n",
        " 2.4 Sets\n",
        "3. Comparison and Logic Operators\n",
        "\n",
        "4. Control Flow\n",
        "\n",
        " 4.1 If Condition\n",
        "\n",
        " 4.2 For Loop\n",
        "\n",
        " 4.3 While Loop\n",
        "\n",
        "5. Functions\n",
        "\n",
        "6. Lambda Functions\n",
        "\n",
        "7. Built in functions\n",
        "\n",
        " 7.1 Map Function\n",
        "\n",
        " 7.2 Filter Function\n",
        "\n",
        "8. More Useful Python Stuff\n",
        "\n",
        " 8.1 List Comprehension\n",
        "\n",
        " 8.2 Enumerate Function\n",
        "\n",
        " 8.3 Zip Function"
      ],
      "metadata": {
        "id": "m1LpW8ki2RSO"
      }
    },
    {
      "cell_type": "markdown",
      "source": [
        "**1. Variables, Numbers, and Strings**\n",
        "\n",
        "**1.1 Variables**\n",
        "\n",
        "Below are quick notes about Python variables and other most important things to know before writing actual Python code:\n",
        "\n",
        "A **Variable** is a location in memory where we store the data.\n",
        "\n",
        "A **variable** in Python can either be of 3 data types: integer, float, or a string.\n",
        " Data type specifies the category of the variables.\n",
        "\n",
        "We can use  **type(variable_name)**  to find the type of given variable_name.\n",
        "\n",
        "\n",
        "\n",
        "\n",
        "\n",
        "*   In Python, we use # to add comments. Comments do not change anything and are not compiled.\n",
        "*  If your comment is longer than one line, you can use triple quotes. The lines inside triple quotes are ignore during runtime.\n",
        "\n",
        "For Example:\n",
        "\"\"\"\n",
        "In Python, there is no official way to write long comments, but you can use triple quotes.\n",
        "The sentence between triple quote are ignored at runtime. You can also use single quote('''....'''). Python treats single quote as double quotes in many scanerios such as strings representation.\n",
        "\"\"\"\n",
        "\n",
        "\n",
        "* We also use = to assign a value to the name of variable.\n",
        "* Note that it's different to comparison operator of equal to (==).\n",
        "\n",
        "We can use **print()** to display the value of variable or the results of any expression.\n",
        "\n",
        "* Each line of the code start on the new line.\n",
        "\n",
        "* Be aware of indentations.\n",
        "*  Python is serious about them.\n"
      ],
      "metadata": {
        "id": "myyZmpT7gZAW"
      }
    },
    {
      "cell_type": "code",
      "source": [
        "a=10\n",
        "b='''Welcome to NCE'''\n",
        "print(b)\n",
        "print(c)"
      ],
      "metadata": {
        "colab": {
          "base_uri": "https://localhost:8080/"
        },
        "id": "vLHQ18W2h8jo",
        "outputId": "34b2f237-4aa9-4876-e0bf-e7d33f690c9c"
      },
      "execution_count": null,
      "outputs": [
        {
          "output_type": "stream",
          "name": "stdout",
          "text": [
            "Welcome to NCE\n",
            "0.5\n"
          ]
        }
      ]
    },
    {
      "cell_type": "markdown",
      "source": [
        "**1.2 Numbers**\n"
      ],
      "metadata": {
        "id": "QY3ljPNlnSi_"
      }
    },
    {
      "cell_type": "markdown",
      "source": [
        "Numbers in Python can either be integers int or floats float.\n",
        "Integer are real, finite, natural or whole numbers.\n",
        "Take an example: 1,2,3,4 are integers.\n",
        " Floats are numbers that have decimal points such as4.6, 6.0, 7.7.\n",
        " Note that 4.0 is considered as a float data type too."
      ],
      "metadata": {
        "id": "CkZ314Kgnrb3"
      }
    },
    {
      "cell_type": "code",
      "source": [
        "a=10\n",
        "b=6.0\n",
        "type(b)\n",
        "type(a)"
      ],
      "metadata": {
        "colab": {
          "base_uri": "https://localhost:8080/"
        },
        "id": "QqDCc2FZn3hJ",
        "outputId": "1b1b418d-66fd-43df-d204-3c1770910946"
      },
      "execution_count": null,
      "outputs": [
        {
          "output_type": "execute_result",
          "data": {
            "text/plain": [
              "int"
            ]
          },
          "metadata": {},
          "execution_count": 27
        }
      ]
    },
    {
      "cell_type": "markdown",
      "source": [
        "**Python acts a calculator**"
      ],
      "metadata": {
        "id": "8vL8VVKWmsQC"
      }
    },
    {
      "cell_type": "code",
      "source": [
        "# Addition\n",
        "1+2\n",
        "\n",
        "\n"
      ],
      "metadata": {
        "colab": {
          "base_uri": "https://localhost:8080/"
        },
        "id": "bY_17avRmyXP",
        "outputId": "36b8c7b2-4bc7-4794-d80e-a1c7bcfe044b"
      },
      "execution_count": null,
      "outputs": [
        {
          "output_type": "execute_result",
          "data": {
            "text/plain": [
              "3"
            ]
          },
          "metadata": {},
          "execution_count": 32
        }
      ]
    },
    {
      "cell_type": "code",
      "source": [
        "#multiplication\n",
        "2*2"
      ],
      "metadata": {
        "colab": {
          "base_uri": "https://localhost:8080/"
        },
        "id": "OBX01ab6oqdU",
        "outputId": "7460a606-6199-47aa-f481-343c1ccba72d"
      },
      "execution_count": null,
      "outputs": [
        {
          "output_type": "execute_result",
          "data": {
            "text/plain": [
              "4"
            ]
          },
          "metadata": {},
          "execution_count": 33
        }
      ]
    },
    {
      "cell_type": "code",
      "source": [
        "#Division\n"
      ],
      "metadata": {
        "id": "GNK_Fh2Wovrc"
      },
      "execution_count": null,
      "outputs": []
    },
    {
      "cell_type": "code",
      "source": [
        "2/2"
      ],
      "metadata": {
        "colab": {
          "base_uri": "https://localhost:8080/"
        },
        "id": "F2K4MSUvoxOw",
        "outputId": "4940b594-4712-452c-b08a-8ce604832716"
      },
      "execution_count": null,
      "outputs": [
        {
          "output_type": "execute_result",
          "data": {
            "text/plain": [
              "1.0"
            ]
          },
          "metadata": {},
          "execution_count": 34
        }
      ]
    },
    {
      "cell_type": "code",
      "source": [
        "#floordivision\n",
        "7//2"
      ],
      "metadata": {
        "colab": {
          "base_uri": "https://localhost:8080/"
        },
        "id": "GYfd4AiKpL6z",
        "outputId": "cf03ca08-ff4c-4f64-837a-7871ed1e66ce"
      },
      "execution_count": null,
      "outputs": [
        {
          "output_type": "execute_result",
          "data": {
            "text/plain": [
              "3"
            ]
          },
          "metadata": {},
          "execution_count": 36
        }
      ]
    },
    {
      "cell_type": "markdown",
      "source": [
        "Floor division is a division operation that returns the largest integer that is less than or equal to the result of the division.\n"
      ],
      "metadata": {
        "id": "V8g57QkkpX-Y"
      }
    },
    {
      "cell_type": "code",
      "source": [
        "# Modular (%)\n",
        "# This is the remainder or a value remaining after dividing two numbers\n",
        "# 100 / 1 = 100, remainder is 0\n",
        "\n",
        "100 % 1"
      ],
      "metadata": {
        "colab": {
          "base_uri": "https://localhost:8080/"
        },
        "id": "KQpbd-Wbp4Rr",
        "outputId": "1eeac09e-2682-4ce7-cb9a-3ea64453bd78"
      },
      "execution_count": null,
      "outputs": [
        {
          "output_type": "execute_result",
          "data": {
            "text/plain": [
              "0"
            ]
          },
          "metadata": {},
          "execution_count": 39
        }
      ]
    },
    {
      "cell_type": "code",
      "source": [
        "# Powers\n",
        "# 1 power any number is 1 always\n",
        "\n",
        "1 ** 100"
      ],
      "metadata": {
        "colab": {
          "base_uri": "https://localhost:8080/"
        },
        "id": "L-KTNMkzqLjk",
        "outputId": "b2c59d31-c205-4db7-ab06-a05363c7146c"
      },
      "execution_count": null,
      "outputs": [
        {
          "output_type": "execute_result",
          "data": {
            "text/plain": [
              "1"
            ]
          },
          "metadata": {},
          "execution_count": 40
        }
      ]
    },
    {
      "cell_type": "markdown",
      "source": [
        "**1.3 Strings**\n",
        "\n",
        "Python supports strings. String is a sequence of characters.\n",
        "\n",
        "Strings are one of the commonly used and important data types. Most problems involve working with strings. Thus, knowing how to work with strings is an incredible thing.\n",
        "\n",
        "Strings are expressed in  using single quotes (‘ ‘), double quotes (\" \"), and triple double quotes (\"\"\" \"\"\").\n",
        "The triple quotes can be used to declare multiline strings in Python.\n",
        "\n",
        "\"text inside here will be a string\"\n",
        "'text inside here will also be a string'"
      ],
      "metadata": {
        "id": "N9qoUEoeqYAO"
      }
    },
    {
      "cell_type": "code",
      "source": [
        "a='hello'\n",
        "b='freshers'\n",
        "a+b"
      ],
      "metadata": {
        "colab": {
          "base_uri": "https://localhost:8080/",
          "height": 35
        },
        "id": "0W7TqCExqg4b",
        "outputId": "b13546fa-2e86-4b4c-98ca-3efc404d4ff8"
      },
      "execution_count": null,
      "outputs": [
        {
          "output_type": "execute_result",
          "data": {
            "text/plain": [
              "'hellofreshers'"
            ],
            "application/vnd.google.colaboratory.intrinsic+json": {
              "type": "string"
            }
          },
          "metadata": {},
          "execution_count": 51
        }
      ]
    },
    {
      "cell_type": "code",
      "source": [
        "a='hello'\n",
        "b='freshers'\n",
        "a +' '+b +'.'"
      ],
      "metadata": {
        "colab": {
          "base_uri": "https://localhost:8080/",
          "height": 35
        },
        "id": "oRH9q0EgsLCy",
        "outputId": "2c482352-af85-4909-f607-886f35a29717"
      },
      "execution_count": null,
      "outputs": [
        {
          "output_type": "execute_result",
          "data": {
            "text/plain": [
              "'hello freshers.'"
            ],
            "application/vnd.google.colaboratory.intrinsic+json": {
              "type": "string"
            }
          },
          "metadata": {},
          "execution_count": 50
        }
      ]
    },
    {
      "cell_type": "code",
      "source": [
        "String1 = \"\"\"Water\n",
        "            For\n",
        "            Life\"\"\"\n",
        "print(String1)"
      ],
      "metadata": {
        "colab": {
          "base_uri": "https://localhost:8080/"
        },
        "id": "gSNSwvWfr2Q2",
        "outputId": "eeb082b1-cdde-459e-b8c5-6fae9dae4802"
      },
      "execution_count": null,
      "outputs": [
        {
          "output_type": "stream",
          "name": "stdout",
          "text": [
            "Water \n",
            "            For \n",
            "            Life\n"
          ]
        }
      ]
    },
    {
      "cell_type": "code",
      "source": [
        "# We can use print() to display a string\n",
        "\n",
        "print(\" This is a string\")"
      ],
      "metadata": {
        "colab": {
          "base_uri": "https://localhost:8080/"
        },
        "id": "JxxyGqcVtFhd",
        "outputId": "2100b613-1e1d-427f-86f0-17f88e4873c7"
      },
      "execution_count": null,
      "outputs": [
        {
          "output_type": "stream",
          "name": "stdout",
          "text": [
            " This is a string\n"
          ]
        }
      ]
    },
    {
      "cell_type": "code",
      "source": [
        "# We can also compare strings to check whether they are similar.\n",
        "# If they are similar, case by case, comparison operator returns true. Else false\n",
        "\n",
        "\"A string\" == \"a string\""
      ],
      "metadata": {
        "colab": {
          "base_uri": "https://localhost:8080/"
        },
        "id": "wm8nR9JPtQxY",
        "outputId": "cf41ab95-928b-4ea7-df2f-4f47af686c7d"
      },
      "execution_count": null,
      "outputs": [
        {
          "output_type": "execute_result",
          "data": {
            "text/plain": [
              "False"
            ]
          },
          "metadata": {},
          "execution_count": 53
        }
      ]
    },
    {
      "cell_type": "code",
      "source": [
        "\"A string\" == \"A string\""
      ],
      "metadata": {
        "colab": {
          "base_uri": "https://localhost:8080/"
        },
        "id": "YIiUB6tjtTOs",
        "outputId": "87cd3bb5-5414-4279-ada0-ba9dc2f029b8"
      },
      "execution_count": null,
      "outputs": [
        {
          "output_type": "execute_result",
          "data": {
            "text/plain": [
              "True"
            ]
          },
          "metadata": {},
          "execution_count": 54
        }
      ]
    },
    {
      "cell_type": "markdown",
      "source": [
        "**Strings Methods**\n",
        "\n",
        "Python provides many built-in methods for manipulating strings. As a programmer, knowing typical string methods and how to use them will give you a real leverage when working with strings."
      ],
      "metadata": {
        "id": "Ka-h92RitmcN"
      }
    },
    {
      "cell_type": "code",
      "source": [
        "sentence = 'This IS A String'\n",
        "sentence"
      ],
      "metadata": {
        "colab": {
          "base_uri": "https://localhost:8080/",
          "height": 35
        },
        "id": "n7xyIG9ftXg3",
        "outputId": "6804225b-bb25-43f1-cbe4-496829451c35"
      },
      "execution_count": null,
      "outputs": [
        {
          "output_type": "execute_result",
          "data": {
            "text/plain": [
              "'This IS A String'"
            ],
            "application/vnd.google.colaboratory.intrinsic+json": {
              "type": "string"
            }
          },
          "metadata": {},
          "execution_count": 56
        }
      ]
    },
    {
      "cell_type": "code",
      "source": [
        "# Case capitalization\n",
        "# It return the string with first letter capitalized and the rest being lower cases.\n",
        "\n",
        "sentence.capitalize()"
      ],
      "metadata": {
        "colab": {
          "base_uri": "https://localhost:8080/",
          "height": 35
        },
        "id": "PhXFw68StyA7",
        "outputId": "fac95849-3101-46c1-bb19-5ebd8ce6509a"
      },
      "execution_count": null,
      "outputs": [
        {
          "output_type": "execute_result",
          "data": {
            "text/plain": [
              "'This is a string'"
            ],
            "application/vnd.google.colaboratory.intrinsic+json": {
              "type": "string"
            }
          },
          "metadata": {},
          "execution_count": 57
        }
      ]
    },
    {
      "cell_type": "code",
      "source": [
        "# Given a string, convert it into title (each word is capitalized)\n",
        "\n",
        "sentence_2 = 'this is a string to be titled'\n",
        "sentence_2.title()"
      ],
      "metadata": {
        "colab": {
          "base_uri": "https://localhost:8080/",
          "height": 35
        },
        "id": "LLFp6M09t8x7",
        "outputId": "622df01a-c489-482b-edfa-62d42d8a9734"
      },
      "execution_count": null,
      "outputs": [
        {
          "output_type": "execute_result",
          "data": {
            "text/plain": [
              "'This Is A String To Be Titled'"
            ],
            "application/vnd.google.colaboratory.intrinsic+json": {
              "type": "string"
            }
          },
          "metadata": {},
          "execution_count": 58
        }
      ]
    },
    {
      "cell_type": "code",
      "source": [
        "# Converting the string to upper case\n",
        "\n",
        "sentence.upper()"
      ],
      "metadata": {
        "colab": {
          "base_uri": "https://localhost:8080/",
          "height": 35
        },
        "id": "YCTw5_X5uEzi",
        "outputId": "3245d1af-0cfc-4ed7-bd5b-54432480f1ee"
      },
      "execution_count": null,
      "outputs": [
        {
          "output_type": "execute_result",
          "data": {
            "text/plain": [
              "'THIS IS A STRING'"
            ],
            "application/vnd.google.colaboratory.intrinsic+json": {
              "type": "string"
            }
          },
          "metadata": {},
          "execution_count": 59
        }
      ]
    },
    {
      "cell_type": "code",
      "source": [
        "# Converting the string to lower case\n",
        "\n",
        "sentence.lower()"
      ],
      "metadata": {
        "colab": {
          "base_uri": "https://localhost:8080/",
          "height": 35
        },
        "id": "FeZ8nVm_uG7p",
        "outputId": "3deaae7e-babc-4f4a-ded5-c87e4e5d4066"
      },
      "execution_count": null,
      "outputs": [
        {
          "output_type": "execute_result",
          "data": {
            "text/plain": [
              "'this is a string'"
            ],
            "application/vnd.google.colaboratory.intrinsic+json": {
              "type": "string"
            }
          },
          "metadata": {},
          "execution_count": 60
        }
      ]
    },
    {
      "cell_type": "code",
      "source": [
        "# Splitting the string\n",
        "\n",
        "sentence.split()"
      ],
      "metadata": {
        "colab": {
          "base_uri": "https://localhost:8080/"
        },
        "id": "De5X6y1luPHG",
        "outputId": "b245bc20-4efe-4f46-c458-a2c73fc29fe8"
      },
      "execution_count": null,
      "outputs": [
        {
          "output_type": "execute_result",
          "data": {
            "text/plain": [
              "['This', 'IS', 'A', 'String']"
            ]
          },
          "metadata": {},
          "execution_count": 61
        }
      ]
    },
    {
      "cell_type": "markdown",
      "source": [
        "Lastly, we can use **replace()** method to replace some characters in string with another characters.\n",
        "Replace method takes two inputs: characters to be replaced, and new characters to be inserted in string, **replace('characters to be replaced', 'new characters')**.\n",
        "\n",
        "Example, given the string \"This movie was awesome\", replace the world movie with project."
      ],
      "metadata": {
        "id": "Z6mmqS_WuZDZ"
      }
    },
    {
      "cell_type": "code",
      "source": [
        "stri = \"This movie was awesome\"\n",
        "stri.replace('movie', 'project')"
      ],
      "metadata": {
        "colab": {
          "base_uri": "https://localhost:8080/",
          "height": 35
        },
        "id": "b0c4SFi_uniJ",
        "outputId": "57a92582-08ec-43be-d349-e3dafc7985c9"
      },
      "execution_count": null,
      "outputs": [
        {
          "output_type": "execute_result",
          "data": {
            "text/plain": [
              "'This project was awesome'"
            ],
            "application/vnd.google.colaboratory.intrinsic+json": {
              "type": "string"
            }
          },
          "metadata": {},
          "execution_count": 62
        }
      ]
    },
    {
      "cell_type": "markdown",
      "source": [
        "**2. Data Structures**\n",
        "\n",
        "Data structures are used to organize and store the data. Algorithms supports operations on data.\n",
        "\n",
        "Python has 4 main data structures: Lists, Dictionaries, Tuples and Sets.\n",
        "\n"
      ],
      "metadata": {
        "id": "GVld7Iu3xdhq"
      }
    },
    {
      "cell_type": "markdown",
      "source": [
        "**2.1 List**\n",
        "\n",
        "A list is a set of ordered values.\n",
        " Each value in a list is called an element or item and can be identified by an index.\n",
        " A list supports different data types, we can have a list of integers, strings, and floats.\n",
        "\n",
        "What we will see with Python lists:\n",
        "\n",
        "Creating a list\n",
        "\n",
        "Accessing elements in a list\n",
        "\n",
        "Slicing a list\n",
        "\n",
        "Changing elements in a list\n",
        "\n",
        "Traversing a list\n",
        "\n",
        "Operations on list\n",
        "\n",
        "Nested lists\n",
        "\n",
        "List methods\n",
        "\n",
        "List and strings\n",
        "\n"
      ],
      "metadata": {
        "id": "d-y6bjrhx0OC"
      }
    },
    {
      "cell_type": "markdown",
      "source": [
        "**Creating a List**\n",
        "\n",
        "A python list can be created by enclosing elements of similar or different data type in square brackets [...], or with range() function."
      ],
      "metadata": {
        "id": "IdmVPALZyPoV"
      }
    },
    {
      "cell_type": "code",
      "source": [
        "# Creating a list\n",
        "\n",
        "week_days = ['Mon', 'Tue', 'Wed', 'Thur','Fri']\n",
        "even_numbers = [2, 4, 6, 8, 10]\n",
        "mixed_list = ['Mon', 1, 'Tue', 2, 'Wed', 3]\n",
        "\n",
        "# Displaying elements of a list\n",
        "print(week_days)"
      ],
      "metadata": {
        "colab": {
          "base_uri": "https://localhost:8080/"
        },
        "id": "XNTCdFdNyb8C",
        "outputId": "09adcf0e-fe16-46d6-d2f5-72669eb4cc43"
      },
      "execution_count": null,
      "outputs": [
        {
          "output_type": "stream",
          "name": "stdout",
          "text": [
            "['Mon', 'Tue', 'Wed', 'Thur', 'Fri']\n"
          ]
        }
      ]
    },
    {
      "cell_type": "markdown",
      "source": [],
      "metadata": {
        "id": "SwBLq1CAybOH"
      }
    },
    {
      "cell_type": "code",
      "source": [
        "# Creating a list with range()\n",
        "'''The range() function returns a sequence ofnumbers, starting from 0 by default,\n",
        "and increments by 1 (by default), and stopsbefore a specified number.'''\n",
        "nums = range(5)\n",
        "\n",
        "for i in nums:\n",
        "    print(i)"
      ],
      "metadata": {
        "colab": {
          "base_uri": "https://localhost:8080/"
        },
        "id": "7xb38DsIzviF",
        "outputId": "902b95e8-f018-451f-a7e1-29098946a7bc"
      },
      "execution_count": null,
      "outputs": [
        {
          "output_type": "stream",
          "name": "stdout",
          "text": [
            "0\n",
            "1\n",
            "2\n",
            "3\n",
            "4\n"
          ]
        }
      ]
    },
    {
      "cell_type": "markdown",
      "source": [
        "**Accessing elements from list**\n"
      ],
      "metadata": {
        "id": "KeEH-7vZ049F"
      }
    },
    {
      "cell_type": "code",
      "source": [
        "List = [\"Welcome\", \"to\", \"NCE\"]\n",
        "List[0]\n",
        "List[2]\n",
        "List[-1]\n"
      ],
      "metadata": {
        "colab": {
          "base_uri": "https://localhost:8080/",
          "height": 35
        },
        "id": "7v3J8Owk0M0I",
        "outputId": "887921fe-177d-4c60-c0bb-32bbd8662b19"
      },
      "execution_count": null,
      "outputs": [
        {
          "output_type": "execute_result",
          "data": {
            "text/plain": [
              "'NCE'"
            ],
            "application/vnd.google.colaboratory.intrinsic+json": {
              "type": "string"
            }
          },
          "metadata": {},
          "execution_count": 73
        }
      ]
    },
    {
      "cell_type": "markdown",
      "source": [],
      "metadata": {
        "id": "ZGE0sRLG1HOn"
      }
    },
    {
      "cell_type": "markdown",
      "source": [
        "**Slicing a list**"
      ],
      "metadata": {
        "id": "DOidH4dl1Jz2"
      }
    },
    {
      "cell_type": "markdown",
      "source": [
        "Given a list, we can slice it to get any parts or combination of its elements forming another list.\n"
      ],
      "metadata": {
        "id": "EjcK6PKR1k4Y"
      }
    },
    {
      "cell_type": "code",
      "source": [
        "# Get the elements from index 0 to 2. Index 2 is not included.\n",
        "\n",
        "week_days = ['Mon', 'Tue', 'Wed', 'Thur','Fri']\n",
        "week_days[0:2]"
      ],
      "metadata": {
        "colab": {
          "base_uri": "https://localhost:8080/"
        },
        "id": "TleG043o1MUM",
        "outputId": "3ba96b76-4f93-4f56-b6c1-13b00a2c30ee"
      },
      "execution_count": null,
      "outputs": [
        {
          "output_type": "execute_result",
          "data": {
            "text/plain": [
              "['Mon', 'Tue']"
            ]
          },
          "metadata": {},
          "execution_count": 74
        }
      ]
    },
    {
      "cell_type": "code",
      "source": [
        "# Get elements from the last fourth elements to the first\n",
        "# -1 starts at the last element 'Fri', -2 second last element `Thur'..... -4 to 'Tue'\n",
        "#Negative indexing means beginning from the end, -1 refers to the last item, -2 refers to the second-last item\n",
        "week_days[-4:]"
      ],
      "metadata": {
        "colab": {
          "base_uri": "https://localhost:8080/"
        },
        "id": "xdrbO0Jr1zAG",
        "outputId": "ca247da1-65d9-47cb-8231-b8e91ced82c3"
      },
      "execution_count": null,
      "outputs": [
        {
          "output_type": "execute_result",
          "data": {
            "text/plain": [
              "['Tue', 'Wed', 'Thur', 'Fri']"
            ]
          },
          "metadata": {},
          "execution_count": 80
        }
      ]
    },
    {
      "cell_type": "code",
      "source": [
        "# Get all elements up to the fourth index\n",
        "\n",
        "week_days[:4]"
      ],
      "metadata": {
        "colab": {
          "base_uri": "https://localhost:8080/"
        },
        "id": "DBaRJk1U2z6z",
        "outputId": "aa49bede-1d52-4c14-9154-ac1c4dffbb94"
      },
      "execution_count": null,
      "outputs": [
        {
          "output_type": "execute_result",
          "data": {
            "text/plain": [
              "['Mon', 'Tue', 'Wed', 'Thur']"
            ]
          },
          "metadata": {},
          "execution_count": 81
        }
      ]
    },
    {
      "cell_type": "markdown",
      "source": [
        "You can use [:] to copy the entire list."
      ],
      "metadata": {
        "id": "HLyI9exH28Z0"
      }
    },
    {
      "cell_type": "code",
      "source": [
        "week_days[:]"
      ],
      "metadata": {
        "colab": {
          "base_uri": "https://localhost:8080/"
        },
        "id": "xWxPIHTh29yc",
        "outputId": "1068ff91-766e-4a44-ed65-428214279b11"
      },
      "execution_count": null,
      "outputs": [
        {
          "output_type": "execute_result",
          "data": {
            "text/plain": [
              "['Mon', 'Tue', 'Wed', 'Thur', 'Fri']"
            ]
          },
          "metadata": {},
          "execution_count": 82
        }
      ]
    },
    {
      "cell_type": "markdown",
      "source": [
        "**Changing elements in a list**\n",
        "\n",
        "Python lists are mutable. We can delete or change the elements of the list."
      ],
      "metadata": {
        "id": "VcxS5vw43FPz"
      }
    },
    {
      "cell_type": "code",
      "source": [
        "names = ['Ram', 'Mark', 'leo', 'harri']\n",
        "names"
      ],
      "metadata": {
        "colab": {
          "base_uri": "https://localhost:8080/"
        },
        "id": "rb1CCdnj3JNF",
        "outputId": "19cb41e1-f4c4-4a54-ac79-d29f435fa349"
      },
      "execution_count": null,
      "outputs": [
        {
          "output_type": "execute_result",
          "data": {
            "text/plain": [
              "['Ram', 'Mark', 'leo', 'harry']"
            ]
          },
          "metadata": {},
          "execution_count": 83
        }
      ]
    },
    {
      "cell_type": "code",
      "source": [
        "#change mark to zuck and leo to mary\n",
        "names[1:3]=['Zuck','mary']\n",
        "names"
      ],
      "metadata": {
        "colab": {
          "base_uri": "https://localhost:8080/"
        },
        "id": "SS4NnJPX3ZbQ",
        "outputId": "44081ba9-770f-4629-f6f6-e4208ed9026d"
      },
      "execution_count": null,
      "outputs": [
        {
          "output_type": "execute_result",
          "data": {
            "text/plain": [
              "['Ram', 'Zuck', 'mary', 'harry']"
            ]
          },
          "metadata": {},
          "execution_count": 87
        }
      ]
    },
    {
      "cell_type": "code",
      "source": [
        "names[-1]='paudel'\n",
        "names"
      ],
      "metadata": {
        "colab": {
          "base_uri": "https://localhost:8080/"
        },
        "id": "r1jwjC-D4GAO",
        "outputId": "f9fa4bcd-9445-4471-8072-9a75350ac80a"
      },
      "execution_count": null,
      "outputs": [
        {
          "output_type": "execute_result",
          "data": {
            "text/plain": [
              "['Ram', 'Zuck', 'mary', 'paudel']"
            ]
          },
          "metadata": {},
          "execution_count": 89
        }
      ]
    },
    {
      "cell_type": "markdown",
      "source": [
        "In order to delete a given element in a list, we can empty slice it but the better way to delete element is to use del keyword."
      ],
      "metadata": {
        "id": "JfSe9n-q4Tqe"
      }
    },
    {
      "cell_type": "code",
      "source": [
        "del names[1]\n",
        "names"
      ],
      "metadata": {
        "colab": {
          "base_uri": "https://localhost:8080/"
        },
        "id": "uS3szws54PJ7",
        "outputId": "c355037b-4230-47e6-8bf7-89b9ca8fd4c3"
      },
      "execution_count": null,
      "outputs": [
        {
          "output_type": "execute_result",
          "data": {
            "text/plain": [
              "['Ram', 'mary', 'paudel']"
            ]
          },
          "metadata": {},
          "execution_count": 90
        }
      ]
    },
    {
      "cell_type": "markdown",
      "source": [
        "If you know the index of the element you want to remove, you can use **pop()**. If you don't provide the index in pop(), the last element will be deleted.\n"
      ],
      "metadata": {
        "id": "JSvmkqLe4dWG"
      }
    },
    {
      "cell_type": "code",
      "source": [
        "names = ['Ram', 'Mark', 'leo', 'harri']\n",
        "names.pop(2)\n",
        "names\n"
      ],
      "metadata": {
        "colab": {
          "base_uri": "https://localhost:8080/"
        },
        "id": "Q7crk94C4l_x",
        "outputId": "b9ce2093-f1ef-4734-dacf-cd2b729856bb"
      },
      "execution_count": null,
      "outputs": [
        {
          "output_type": "execute_result",
          "data": {
            "text/plain": [
              "['Ram', 'Mark', 'harri']"
            ]
          },
          "metadata": {},
          "execution_count": 93
        }
      ]
    },
    {
      "cell_type": "markdown",
      "source": [
        "Also, we can use **remove()** to delete the element provided inside the remove() method."
      ],
      "metadata": {
        "id": "S4OnEVb55BOk"
      }
    },
    {
      "cell_type": "code",
      "source": [
        "names = ['Ram', 'Mark', 'leo', 'harri']\n",
        "names.remove('Ram')\n",
        "names"
      ],
      "metadata": {
        "colab": {
          "base_uri": "https://localhost:8080/"
        },
        "id": "KnNOj3kD5Did",
        "outputId": "057c7367-ad69-4624-d701-9c6e314672be"
      },
      "execution_count": null,
      "outputs": [
        {
          "output_type": "execute_result",
          "data": {
            "text/plain": [
              "['Mark', 'leo', 'harri']"
            ]
          },
          "metadata": {},
          "execution_count": 96
        }
      ]
    },
    {
      "cell_type": "markdown",
      "source": [
        "We can also use append() to add element to the list."
      ],
      "metadata": {
        "id": "scSQIKQ45Zqu"
      }
    },
    {
      "cell_type": "code",
      "source": [
        "names = ['Ram', 'Mark', 'leo', 'harri']\n",
        "names.append('sita')\n",
        "names.append('lucy')\n",
        "names"
      ],
      "metadata": {
        "colab": {
          "base_uri": "https://localhost:8080/"
        },
        "id": "4SljlnK55ek6",
        "outputId": "367030bf-d8b2-414e-b36b-be468e346c95"
      },
      "execution_count": null,
      "outputs": [
        {
          "output_type": "execute_result",
          "data": {
            "text/plain": [
              "['Ram', 'Mark', 'leo', 'harri', 'sita', 'lucy']"
            ]
          },
          "metadata": {},
          "execution_count": 99
        }
      ]
    },
    {
      "cell_type": "markdown",
      "source": [
        "**Traversing a list**\n",
        "\n",
        "There are times that we may need to go over the list to read the elements of the list or perform iterative operations. We can use for loop to traverse through the list."
      ],
      "metadata": {
        "id": "R237ATcW5w0J"
      }
    },
    {
      "cell_type": "code",
      "source": [
        "# Given a list names, use for loop to display its elements\n",
        "\n",
        "names = ['Ram', 'Mark', 'leo', 'harri']\n",
        "\n",
        "for name in names:\n",
        "    print(name)"
      ],
      "metadata": {
        "colab": {
          "base_uri": "https://localhost:8080/"
        },
        "id": "4UwFhpNe51OZ",
        "outputId": "4e07540b-f3fc-41d7-de36-634628c74361"
      },
      "execution_count": null,
      "outputs": [
        {
          "output_type": "stream",
          "name": "stdout",
          "text": [
            "Ram\n",
            "Mark\n",
            "leo\n",
            "harri\n"
          ]
        }
      ]
    },
    {
      "cell_type": "markdown",
      "source": [
        "**Example**\n",
        "\n",
        "\n",
        "**Given a list nums, add 1 to the first element, 2 to the second, 3 to 3rd element, 4 to 4th element\n",
        "\n",
        "Example: nums = [1,2,3,6] will be nums_new = [2,4,6,10] **\n"
      ],
      "metadata": {
        "id": "s6NnlVwf6G9Y"
      }
    },
    {
      "cell_type": "code",
      "source": [
        "nums = [1, 2, 3, 6]\n",
        "len(nums)\n",
        "nums_new = []\n",
        "\n",
        "for i in range(len(nums)): #len(nums) gives the length of the list\n",
        "    num = nums[i] + i + 1\n",
        "    nums_new.append(num)\n",
        "\n",
        "nums_new\n"
      ],
      "metadata": {
        "colab": {
          "base_uri": "https://localhost:8080/"
        },
        "id": "ZKNIKoFB7SNw",
        "outputId": "07a49732-d1dc-42b2-9061-6468e992d12b"
      },
      "execution_count": null,
      "outputs": [
        {
          "output_type": "execute_result",
          "data": {
            "text/plain": [
              "[2, 4, 6, 10]"
            ]
          },
          "metadata": {},
          "execution_count": 103
        }
      ]
    },
    {
      "cell_type": "markdown",
      "source": [
        "Operations on **list**"
      ],
      "metadata": {
        "id": "veEjYIHSzecx"
      }
    },
    {
      "cell_type": "code",
      "source": [
        "# Concatenating two lists\n",
        "\n",
        "a = [1,2,3]\n",
        "b = [4,5,6]\n",
        "\n",
        "c = a + b\n",
        "\n",
        "c"
      ],
      "metadata": {
        "colab": {
          "base_uri": "https://localhost:8080/"
        },
        "id": "u5GkJYsXzxgJ",
        "outputId": "08f1fc14-d64d-4ac2-cf1b-43129054bff4"
      },
      "execution_count": null,
      "outputs": [
        {
          "output_type": "execute_result",
          "data": {
            "text/plain": [
              "[1, 2, 3, 4, 5, 6]"
            ]
          },
          "metadata": {},
          "execution_count": 1
        }
      ]
    },
    {
      "cell_type": "code",
      "source": [
        "# We can also use * operator to repeat a list a number of times\n",
        "\n",
        "[None] * 5"
      ],
      "metadata": {
        "colab": {
          "base_uri": "https://localhost:8080/"
        },
        "id": "3l_fkshh0Abm",
        "outputId": "024a0543-7707-466c-aec2-af1d2473aa2b"
      },
      "execution_count": null,
      "outputs": [
        {
          "output_type": "execute_result",
          "data": {
            "text/plain": [
              "[None, None, None, None, None]"
            ]
          },
          "metadata": {},
          "execution_count": 2
        }
      ]
    },
    {
      "cell_type": "markdown",
      "source": [
        "Nested **lists**"
      ],
      "metadata": {
        "id": "Ai4JpQkF0Gzh"
      }
    },
    {
      "cell_type": "code",
      "source": [
        "# Creating a list in other list\n",
        "\n",
        "nested_list = [1,2,3, ['a', 'b', 'c']]\n",
        "\n",
        "\n",
        "# Get the ['a', 'b', 'c'] from the nested_list\n",
        "\n",
        "nested_list[3]"
      ],
      "metadata": {
        "colab": {
          "base_uri": "https://localhost:8080/"
        },
        "id": "psy1GmTH0I1R",
        "outputId": "1866a983-17a6-4f5a-d167-2247dd356663"
      },
      "execution_count": null,
      "outputs": [
        {
          "output_type": "execute_result",
          "data": {
            "text/plain": [
              "['a', 'b', 'c']"
            ]
          },
          "metadata": {},
          "execution_count": 3
        }
      ]
    },
    {
      "cell_type": "markdown",
      "source": [
        "**List Methods**\n",
        "\n",
        "Python also offers methods which make it easy to work with lists.\n",
        "We already have been using some list methods such as pop() and append() but let's review more other methods."
      ],
      "metadata": {
        "id": "Mocks6k50ONm"
      }
    },
    {
      "cell_type": "code",
      "source": [
        "# Sorting a list with sort()\n",
        "\n",
        "even_numbers = [2,14,16,12,20,8,10]\n",
        "\n",
        "even_numbers.sort()\n",
        "\n",
        "even_numbers"
      ],
      "metadata": {
        "colab": {
          "base_uri": "https://localhost:8080/"
        },
        "id": "VdK0vusA0blf",
        "outputId": "35cfd862-556d-461f-e59e-ed1ceace3b42"
      },
      "execution_count": null,
      "outputs": [
        {
          "output_type": "execute_result",
          "data": {
            "text/plain": [
              "[2, 8, 10, 12, 14, 16, 20]"
            ]
          },
          "metadata": {},
          "execution_count": 4
        }
      ]
    },
    {
      "cell_type": "code",
      "source": [
        "# Reversing a string with reverse()\n",
        "\n",
        "even_numbers.reverse()\n",
        "even_numbers"
      ],
      "metadata": {
        "colab": {
          "base_uri": "https://localhost:8080/"
        },
        "id": "kTfOpvtS0hi2",
        "outputId": "36edfbca-1a05-4123-ca9d-528f68dd7c63"
      },
      "execution_count": null,
      "outputs": [
        {
          "output_type": "execute_result",
          "data": {
            "text/plain": [
              "[20, 16, 14, 12, 10, 8, 2]"
            ]
          },
          "metadata": {},
          "execution_count": 5
        }
      ]
    },
    {
      "cell_type": "code",
      "source": [
        "# Adding other elements to a list with append()\n",
        "\n",
        "even_numbers = [2,14,16,12,20,8,10]\n",
        "\n",
        "even_numbers.append(40)\n",
        "even_numbers"
      ],
      "metadata": {
        "colab": {
          "base_uri": "https://localhost:8080/"
        },
        "id": "r9LYQdYP0mlV",
        "outputId": "349d8e89-8b9e-4919-bda0-a95bebf97737"
      },
      "execution_count": null,
      "outputs": [
        {
          "output_type": "execute_result",
          "data": {
            "text/plain": [
              "[2, 14, 16, 12, 20, 8, 10, 40]"
            ]
          },
          "metadata": {},
          "execution_count": 7
        }
      ]
    },
    {
      "cell_type": "code",
      "source": [
        "# Removing the first element of a list\n",
        "even_numbers = [2,14,16,12,20,8,10]\n",
        "even_numbers.remove(2)\n",
        "even_numbers"
      ],
      "metadata": {
        "colab": {
          "base_uri": "https://localhost:8080/"
        },
        "id": "xZjp6m6O0ro4",
        "outputId": "c6ba587d-5d44-40bc-e388-2dda1308086e"
      },
      "execution_count": null,
      "outputs": [
        {
          "output_type": "execute_result",
          "data": {
            "text/plain": [
              "[14, 16, 12, 20, 8, 10]"
            ]
          },
          "metadata": {},
          "execution_count": 8
        }
      ]
    },
    {
      "cell_type": "code",
      "source": [
        "# pop() without index specified will return the last element of the list\n",
        "\n",
        "even_numbers = [2,14,16,12,20,8,10]\n",
        "even_numbers.pop()"
      ],
      "metadata": {
        "colab": {
          "base_uri": "https://localhost:8080/"
        },
        "id": "amaR_dJY0-LJ",
        "outputId": "71e69f8e-14ee-4280-dd06-9a4c9dea4bf0"
      },
      "execution_count": null,
      "outputs": [
        {
          "output_type": "execute_result",
          "data": {
            "text/plain": [
              "10"
            ]
          },
          "metadata": {},
          "execution_count": 9
        }
      ]
    },
    {
      "cell_type": "markdown",
      "source": [
        "**List and strings**\n",
        "\n",
        "We previously have learned about strings. Strings are sequence of characters. List is a sequence of values"
      ],
      "metadata": {
        "id": "DtIbe1bR1tVA"
      }
    },
    {
      "cell_type": "code",
      "source": [
        "# We can convert a string into list\n",
        "\n",
        "stri = 'Apple'\n",
        "\n",
        "list(stri)"
      ],
      "metadata": {
        "colab": {
          "base_uri": "https://localhost:8080/"
        },
        "id": "XjUbZpCx1l6n",
        "outputId": "7b61bed7-6bb5-4f8a-80b5-3f9fd4215b47"
      },
      "execution_count": null,
      "outputs": [
        {
          "output_type": "execute_result",
          "data": {
            "text/plain": [
              "['A', 'p', 'p', 'l', 'e']"
            ]
          },
          "metadata": {},
          "execution_count": 10
        }
      ]
    },
    {
      "cell_type": "code",
      "source": [
        "# Splitting a string produces a list of individual words\n",
        "\n",
        "stri_2 = \"List and Strings\"\n",
        "stri_2.split()"
      ],
      "metadata": {
        "colab": {
          "base_uri": "https://localhost:8080/"
        },
        "id": "aPGpntfj2AtY",
        "outputId": "05d9d8a2-9fa4-404c-c536-b9bbcfeeb29b"
      },
      "execution_count": null,
      "outputs": [
        {
          "output_type": "execute_result",
          "data": {
            "text/plain": [
              "['List', 'and', 'Strings']"
            ]
          },
          "metadata": {},
          "execution_count": 11
        }
      ]
    },
    {
      "cell_type": "markdown",
      "source": [
        "The split() string method allows to specify the character to use a a boundary while splitting the string. It's called delimiter."
      ],
      "metadata": {
        "id": "4V74O8Y12K9M"
      }
    },
    {
      "cell_type": "code",
      "source": [
        "\n",
        "stri_3 = \"state-of-the-art\"\n",
        "\n",
        "stri_3.split('-')"
      ],
      "metadata": {
        "colab": {
          "base_uri": "https://localhost:8080/"
        },
        "id": "u9wa29w62MZD",
        "outputId": "86d0a31b-9c83-46ed-b358-db37a31c1a4d"
      },
      "execution_count": null,
      "outputs": [
        {
          "output_type": "execute_result",
          "data": {
            "text/plain": [
              "['state', 'of', 'the', 'art']"
            ]
          },
          "metadata": {},
          "execution_count": 12
        }
      ]
    }
  ]
}